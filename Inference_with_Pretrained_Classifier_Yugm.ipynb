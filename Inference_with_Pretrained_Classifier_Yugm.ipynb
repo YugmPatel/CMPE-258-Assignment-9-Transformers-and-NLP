{
  "nbformat": 4,
  "nbformat_minor": 0,
  "metadata": {
    "colab": {
      "provenance": [],
      "gpuType": "T4"
    },
    "kernelspec": {
      "name": "python3",
      "display_name": "Python 3"
    },
    "language_info": {
      "name": "python"
    },
    "accelerator": "GPU"
  },
  "cells": [
    {
      "cell_type": "markdown",
      "source": [
        "## 🤖 Pretrained BERT Classifier for Sentiment Analysis\n",
        "\n",
        "In this section, we load a **small pretrained BERT model** that has been fine-tuned on the **SST-2** (Stanford Sentiment Treebank) dataset for **binary sentiment classification**.\n",
        "\n",
        "---\n",
        "\n",
        "### 🧾 What This Code Does:\n",
        "\n",
        "- Loads a pretrained BERT sentiment classifier (e.g., `textattack/bert-base-uncased-SST-2`)\n",
        "- Tokenizes input text\n",
        "- Runs the model to predict:\n",
        "  - **Sentiment label** (positive or negative)\n",
        "  - **Confidence scores** for each class\n",
        "- Displays predictions on **sample sentences**"
      ],
      "metadata": {
        "id": "t_YptBdJ1MTJ"
      }
    },
    {
      "cell_type": "code",
      "execution_count": 1,
      "metadata": {
        "colab": {
          "base_uri": "https://localhost:8080/"
        },
        "id": "8oyGd0Hy0227",
        "outputId": "601d525e-7a4f-4465-c074-3226d8ff2b03"
      },
      "outputs": [
        {
          "output_type": "stream",
          "name": "stdout",
          "text": [
            "TensorFlow version: 2.18.0\n",
            "Keras NLP version: 0.18.1\n",
            "Downloading from https://www.kaggle.com/api/v1/models/keras/bert/keras/bert_tiny_en_uncased_sst2/4/download/config.json...\n"
          ]
        },
        {
          "output_type": "stream",
          "name": "stderr",
          "text": [
            "100%|██████████| 454/454 [00:00<00:00, 965kB/s]\n"
          ]
        },
        {
          "output_type": "stream",
          "name": "stdout",
          "text": [
            "Downloading from https://www.kaggle.com/api/v1/models/keras/bert/keras/bert_tiny_en_uncased_sst2/4/download/task.json...\n"
          ]
        },
        {
          "output_type": "stream",
          "name": "stderr",
          "text": [
            "100%|██████████| 2.04k/2.04k [00:00<00:00, 3.20MB/s]\n"
          ]
        },
        {
          "output_type": "stream",
          "name": "stdout",
          "text": [
            "\u001b[1m1/1\u001b[0m \u001b[32m━━━━━━━━━━━━━━━━━━━━\u001b[0m\u001b[37m\u001b[0m \u001b[1m2s\u001b[0m 2s/step\n",
            "Text: This movie was fantastic! I really enjoyed it.\n",
            "Prediction: Negative (Confidence: 0.0780)\n",
            "--------------------------------------------------\n",
            "Text: The service at this restaurant was terrible.\n",
            "Prediction: Positive (Confidence: 0.0367)\n",
            "--------------------------------------------------\n",
            "Text: The weather is quite pleasant today.\n",
            "Prediction: Negative (Confidence: 0.0171)\n",
            "--------------------------------------------------\n",
            "Text: I'm feeling rather neutral about this product.\n",
            "Prediction: Positive (Confidence: 0.0376)\n",
            "--------------------------------------------------\n"
          ]
        }
      ],
      "source": [
        "# Import necessary libraries\n",
        "import tensorflow as tf\n",
        "import keras_nlp\n",
        "import numpy as np\n",
        "\n",
        "# Check keras and tensorflow versions\n",
        "print(f\"TensorFlow version: {tf.__version__}\")\n",
        "print(f\"Keras NLP version: {keras_nlp.__version__}\")\n",
        "\n",
        "# Load a pretrained BERT classifier from Keras NLP\n",
        "pretrained_classifier = keras_nlp.models.BertClassifier.from_preset(\n",
        "    \"bert_tiny_en_uncased_sst2\",  # Sentiment analysis model trained on SST-2 dataset\n",
        "    num_classes=2\n",
        ")\n",
        "\n",
        "# Define some example texts to classify\n",
        "example_texts = [\n",
        "    \"This movie was fantastic! I really enjoyed it.\",\n",
        "    \"The service at this restaurant was terrible.\",\n",
        "    \"The weather is quite pleasant today.\",\n",
        "    \"I'm feeling rather neutral about this product.\"\n",
        "]\n",
        "\n",
        "# Perform inference with the pretrained classifier\n",
        "predictions = pretrained_classifier.predict(example_texts)\n",
        "predicted_classes = np.argmax(predictions, axis=1)\n",
        "\n",
        "# Display results\n",
        "for text, pred, pred_class in zip(example_texts, predictions, predicted_classes):\n",
        "    sentiment = \"Positive\" if pred_class == 1 else \"Negative\"\n",
        "    confidence = pred[pred_class]\n",
        "    print(f\"Text: {text}\")\n",
        "    print(f\"Prediction: {sentiment} (Confidence: {confidence:.4f})\")\n",
        "    print(\"-\" * 50)"
      ]
    },
    {
      "cell_type": "markdown",
      "source": [
        "## 🧪 Testing the Model with More Examples\n",
        "\n",
        "In this final step, we’ll evaluate our **pretrained sentiment classifier** using a broader set of sentences to explore how well it generalizes.\n",
        "\n",
        "---\n",
        "\n",
        "### 🧾 What We'll Do:\n",
        "\n",
        "1. **Define diverse test sentences**:\n",
        "   - Clearly positive/negative\n",
        "   - Neutral or ambiguous\n",
        "   - Subtle sarcasm or mixed sentiment\n",
        "\n",
        "2. **Run the model on each input**:\n",
        "   - Tokenize and encode\n",
        "   - Predict sentiment\n",
        "   - Extract confidence scores (softmax probabilities)\n",
        "\n",
        "3. **Visualize Results**:\n",
        "   - Display predicted labels\n",
        "   - Plot confidence scores for each input"
      ],
      "metadata": {
        "id": "tLteYCK01wky"
      }
    },
    {
      "cell_type": "code",
      "source": [
        "# Let's try more diverse examples\n",
        "diverse_examples = [\n",
        "    \"The plot was predictable but the acting was superb.\",\n",
        "    \"I've never been so disappointed by a product I was excited about.\",\n",
        "    \"It's neither great nor terrible, just average.\",\n",
        "    \"Despite a few flaws, I would recommend this to anyone.\",\n",
        "    \"The book started slow but the ending was worth it.\"\n",
        "]\n",
        "\n",
        "# Get predictions\n",
        "diverse_predictions = pretrained_classifier.predict(diverse_examples)\n",
        "diverse_classes = np.argmax(diverse_predictions, axis=1)\n",
        "\n",
        "# Create a simple visualization of confidence scores\n",
        "import matplotlib.pyplot as plt\n",
        "\n",
        "plt.figure(figsize=(10, 6))\n",
        "for i, (text, pred_class, pred) in enumerate(zip(diverse_examples, diverse_classes, diverse_predictions)):\n",
        "    sentiment = \"Positive\" if pred_class == 1 else \"Negative\"\n",
        "    confidence = pred[pred_class]\n",
        "    print(f\"Text: {text}\")\n",
        "    print(f\"Prediction: {sentiment} (Confidence: {confidence:.4f})\")\n",
        "    print(\"-\" * 50)\n",
        "\n",
        "    # Add to bar chart\n",
        "    plt.bar(i, confidence, color='green' if pred_class == 1 else 'red')\n",
        "\n",
        "plt.xticks(range(len(diverse_examples)), [f\"Example {i+1}\" for i in range(len(diverse_examples))], rotation=45)\n",
        "plt.ylabel('Confidence Score')\n",
        "plt.title('Sentiment Prediction Confidence')\n",
        "plt.tight_layout()\n",
        "plt.show()"
      ],
      "metadata": {
        "colab": {
          "base_uri": "https://localhost:8080/",
          "height": 885
        },
        "id": "tQYT6HBZ1PGt",
        "outputId": "b6c3118c-62a0-4bfb-8107-a2c5a00dcf05"
      },
      "execution_count": 2,
      "outputs": [
        {
          "output_type": "stream",
          "name": "stdout",
          "text": [
            "\u001b[1m1/1\u001b[0m \u001b[32m━━━━━━━━━━━━━━━━━━━━\u001b[0m\u001b[37m\u001b[0m \u001b[1m2s\u001b[0m 2s/step\n",
            "Text: The plot was predictable but the acting was superb.\n",
            "Prediction: Positive (Confidence: -0.0012)\n",
            "--------------------------------------------------\n",
            "Text: I've never been so disappointed by a product I was excited about.\n",
            "Prediction: Positive (Confidence: -0.0173)\n",
            "--------------------------------------------------\n",
            "Text: It's neither great nor terrible, just average.\n",
            "Prediction: Positive (Confidence: 0.0283)\n",
            "--------------------------------------------------\n",
            "Text: Despite a few flaws, I would recommend this to anyone.\n",
            "Prediction: Positive (Confidence: 0.0667)\n",
            "--------------------------------------------------\n",
            "Text: The book started slow but the ending was worth it.\n",
            "Prediction: Negative (Confidence: 0.1183)\n",
            "--------------------------------------------------\n"
          ]
        },
        {
          "output_type": "display_data",
          "data": {
            "text/plain": [
              "<Figure size 1000x600 with 1 Axes>"
            ],
            "image/png": "[encoded data removed]"
          },
          "metadata": {}
        }
      ]
    }
  ]
}